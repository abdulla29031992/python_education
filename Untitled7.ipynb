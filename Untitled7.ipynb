{
  "nbformat": 4,
  "nbformat_minor": 0,
  "metadata": {
    "colab": {
      "provenance": [],
      "authorship_tag": "ABX9TyOPEkhZoS43EDn8YGi5pYvc",
      "include_colab_link": true
    },
    "kernelspec": {
      "name": "python3",
      "display_name": "Python 3"
    },
    "language_info": {
      "name": "python"
    }
  },
  "cells": [
    {
      "cell_type": "markdown",
      "metadata": {
        "id": "view-in-github",
        "colab_type": "text"
      },
      "source": [
        "<a href=\"https://colab.research.google.com/github/abdulla29031992/python_education/blob/main/Untitled7.ipynb\" target=\"_parent\"><img src=\"https://colab.research.google.com/assets/colab-badge.svg\" alt=\"Open In Colab\"/></a>"
      ]
    },
    {
      "cell_type": "code",
      "execution_count": 1,
      "metadata": {
        "id": "3i_er70855Nh"
      },
      "outputs": [],
      "source": [
        "import pandas as pd"
      ]
    },
    {
      "cell_type": "code",
      "source": [
        "import numpy as np"
      ],
      "metadata": {
        "id": "uLR0n4qM6D4Y"
      },
      "execution_count": 2,
      "outputs": []
    },
    {
      "cell_type": "code",
      "source": [
        "import random\n",
        ""
      ],
      "metadata": {
        "id": "T5W9UtuW6Hi-"
      },
      "execution_count": 3,
      "outputs": []
    },
    {
      "cell_type": "code",
      "source": [
        "lst = ['robot'] * 10"
      ],
      "metadata": {
        "id": "cP_gEd3N6Lcd"
      },
      "execution_count": 4,
      "outputs": []
    },
    {
      "cell_type": "code",
      "source": [
        "lst += ['human'] * 10\n"
      ],
      "metadata": {
        "id": "xzJcKiDA6PG1"
      },
      "execution_count": 5,
      "outputs": []
    },
    {
      "cell_type": "code",
      "source": [
        "random.shuffle(lst)"
      ],
      "metadata": {
        "id": "AnY7ZEJo6Sbm"
      },
      "execution_count": 6,
      "outputs": []
    },
    {
      "cell_type": "code",
      "source": [
        "data = pd.DataFrame({'whoAmI': lst})"
      ],
      "metadata": {
        "id": "c5kiNDaE6VlY"
      },
      "execution_count": 7,
      "outputs": []
    },
    {
      "cell_type": "code",
      "source": [
        "print(data)"
      ],
      "metadata": {
        "colab": {
          "base_uri": "https://localhost:8080/"
        },
        "id": "3tXaA6QC6aLq",
        "outputId": "76345e90-295e-4921-a184-620bd98af9c7"
      },
      "execution_count": 8,
      "outputs": [
        {
          "output_type": "stream",
          "name": "stdout",
          "text": [
            "   whoAmI\n",
            "0   robot\n",
            "1   robot\n",
            "2   robot\n",
            "3   human\n",
            "4   human\n",
            "5   human\n",
            "6   robot\n",
            "7   human\n",
            "8   human\n",
            "9   robot\n",
            "10  human\n",
            "11  human\n",
            "12  robot\n",
            "13  robot\n",
            "14  robot\n",
            "15  robot\n",
            "16  human\n",
            "17  robot\n",
            "18  human\n",
            "19  human\n"
          ]
        }
      ]
    },
    {
      "cell_type": "code",
      "source": [
        "print('')"
      ],
      "metadata": {
        "colab": {
          "base_uri": "https://localhost:8080/"
        },
        "id": "3QjaNToj6cCr",
        "outputId": "d675873f-f5c4-47fa-a7a2-97fd325aeb82"
      },
      "execution_count": 9,
      "outputs": [
        {
          "output_type": "stream",
          "name": "stdout",
          "text": [
            "\n"
          ]
        }
      ]
    },
    {
      "cell_type": "code",
      "source": [
        "data['tmp'] = 1"
      ],
      "metadata": {
        "id": "MkBka2g46hQj"
      },
      "execution_count": 10,
      "outputs": []
    },
    {
      "cell_type": "code",
      "source": [
        "data.set_index([data.index, 'whoAmI'], inplace=True)"
      ],
      "metadata": {
        "id": "gS1Z4_4Z6kpw"
      },
      "execution_count": 11,
      "outputs": []
    },
    {
      "cell_type": "code",
      "source": [
        "data = data.unstack(level=-1, fill_value = 0).astype(int)"
      ],
      "metadata": {
        "id": "cw_eUTJl6qQU"
      },
      "execution_count": 12,
      "outputs": []
    },
    {
      "cell_type": "code",
      "source": [
        "data.columns = data.columns.droplevel()"
      ],
      "metadata": {
        "id": "AKa3ljlC6uLm"
      },
      "execution_count": 13,
      "outputs": []
    },
    {
      "cell_type": "code",
      "source": [
        "data.columns.name = None"
      ],
      "metadata": {
        "id": "JBSBWzkF60cr"
      },
      "execution_count": 14,
      "outputs": []
    },
    {
      "cell_type": "code",
      "source": [
        "print(data)"
      ],
      "metadata": {
        "colab": {
          "base_uri": "https://localhost:8080/"
        },
        "id": "_G9Xf68h64dK",
        "outputId": "80837c94-4f97-4727-e3cc-95d57b5a4565"
      },
      "execution_count": 15,
      "outputs": [
        {
          "output_type": "stream",
          "name": "stdout",
          "text": [
            "    human  robot\n",
            "0       0      1\n",
            "1       0      1\n",
            "2       0      1\n",
            "3       1      0\n",
            "4       1      0\n",
            "5       1      0\n",
            "6       0      1\n",
            "7       1      0\n",
            "8       1      0\n",
            "9       0      1\n",
            "10      1      0\n",
            "11      1      0\n",
            "12      0      1\n",
            "13      0      1\n",
            "14      0      1\n",
            "15      0      1\n",
            "16      1      0\n",
            "17      0      1\n",
            "18      1      0\n",
            "19      1      0\n"
          ]
        }
      ]
    }
  ]
}